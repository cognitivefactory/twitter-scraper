{
 "cells": [
  {
   "attachments": {},
   "cell_type": "markdown",
   "metadata": {},
   "source": [
    "# Twitter Scraper Demo\n",
    "\n",
    "## ✏️ Setup\n",
    "\n",
    "Please install first the required packages with the following command:\n",
    "\n",
    "```ps1\n",
    "pip install --upgrade -r requirements.txt\n",
    "```\n",
    "\n",
    "Then you should setup a Twitter developer account and create a new app to get your API keys. You can find more information [here](https://developer.twitter.com/en/docs/twitter-api/getting-started/getting-access-to-the-twitter-api).\n",
    "\n",
    "Then you should create a new file named `.env` in the root directory of the project and add the following lines (based on [.env.example](.env.example)):\n",
    "\n",
    "```txt\n",
    "API_KEY =\n",
    "API_KEY_SECRET =\n",
    "BEARER_TOKEN =\n",
    "```"
   ]
  },
  {
   "cell_type": "code",
   "execution_count": 3,
   "metadata": {},
   "outputs": [],
   "source": [
    "from twitter_scraper import *"
   ]
  },
  {
   "attachments": {},
   "cell_type": "markdown",
   "metadata": {},
   "source": [
    "## ❓ Quering the API\n",
    "\n",
    "First we need to define the `query`, which is a `str` containing the search query. Then we can create a `TwitterScraper` object and call the `search` method to get the results."
   ]
  },
  {
   "cell_type": "code",
   "execution_count": 4,
   "metadata": {},
   "outputs": [],
   "source": [
    "query = 'BBQ Party'\n",
    "limit = 10\n",
    "\n",
    "p: SearchParams = SearchParams().with_lang('en')\n",
    "s: TwitterScraper = TwitterScraper(params=p)"
   ]
  },
  {
   "cell_type": "code",
   "execution_count": 5,
   "metadata": {},
   "outputs": [],
   "source": [
    "r: list[Tweet] = s.search(query=query, limit=limit)"
   ]
  },
  {
   "attachments": {},
   "cell_type": "markdown",
   "metadata": {},
   "source": [
    "Then we can iterate over the results and save them."
   ]
  },
  {
   "cell_type": "code",
   "execution_count": 6,
   "metadata": {},
   "outputs": [],
   "source": [
    "import os\n",
    "\n",
    "# try to create the data directory\n",
    "try:\n",
    "  os.mkdir('data')\n",
    "except FileExistsError:\n",
    "  pass\n",
    "\n",
    "# try to remove the test file\n",
    "try:\n",
    "  os.remove(os.path.join('data', 'tweet_demo.bin'))\n",
    "except FileNotFoundError:\n",
    "  pass"
   ]
  },
  {
   "cell_type": "code",
   "execution_count": 7,
   "metadata": {},
   "outputs": [],
   "source": [
    "for t in r:\n",
    "  t.write(os.path.join('data', 'tweet_demo.bin'))"
   ]
  },
  {
   "attachments": {},
   "cell_type": "markdown",
   "metadata": {},
   "source": [
    "We can later retrieve the saved results."
   ]
  },
  {
   "cell_type": "code",
   "execution_count": 8,
   "metadata": {},
   "outputs": [
    {
     "name": "stdout",
     "output_type": "stream",
     "text": [
      "@TuvoksEars @Habjustice1 @kyisfa @AdeniumObesum_ Yeah, you did. The detailed data you have provided that confirmed Welkait belongs to Tigray leaves no room😤\n",
      "As for the Fano (TPLF antidote), I have invited them for BBQ first in Badme, and then we are heading to Massawa for a beach ⛱️ party.\n"
     ]
    }
   ],
   "source": [
    "tweets: list[Tweet] = Tweet.factory(os.path.join('data', 'tweet_demo.bin'))\n",
    "\n",
    "print(tweets[0])"
   ]
  }
 ],
 "metadata": {
  "kernelspec": {
   "display_name": "Python 3",
   "language": "python",
   "name": "python3"
  },
  "language_info": {
   "codemirror_mode": {
    "name": "ipython",
    "version": 3
   },
   "file_extension": ".py",
   "mimetype": "text/x-python",
   "name": "python",
   "nbconvert_exporter": "python",
   "pygments_lexer": "ipython3",
   "version": "3.11.1"
  },
  "orig_nbformat": 4,
  "vscode": {
   "interpreter": {
    "hash": "5238573367df39f7286bb46f9ff5f08f63a01a80960060ce41e3c79b190280fa"
   }
  }
 },
 "nbformat": 4,
 "nbformat_minor": 2
}
