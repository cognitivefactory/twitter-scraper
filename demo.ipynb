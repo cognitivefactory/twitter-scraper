{
 "cells": [
  {
   "attachments": {},
   "cell_type": "markdown",
   "metadata": {},
   "source": [
    "# Twitter Scraper Demo\n",
    "\n",
    "## ✏️ Setup\n",
    "\n",
    "Please install first the required packages with the following command:\n",
    "\n",
    "```ps1\n",
    "pip install --upgrade -r requirements.txt\n",
    "```\n",
    "\n",
    "Then you should setup a Twitter developer account and create a new app to get your API keys. You can find more information [here](https://developer.twitter.com/en/docs/twitter-api/getting-started/getting-access-to-the-twitter-api).\n",
    "\n",
    "Then you should create a new file named `.env` in the root directory of the project and add the following lines (based on [.env.example](.env.example)):\n",
    "\n",
    "```txt\n",
    "API_KEY =\n",
    "API_KEY_SECRET =\n",
    "BEARER_TOKEN =\n",
    "```"
   ]
  },
  {
   "cell_type": "code",
   "execution_count": 1,
   "metadata": {},
   "outputs": [],
   "source": [
    "from twitter_scraper import *"
   ]
  },
  {
   "attachments": {},
   "cell_type": "markdown",
   "metadata": {},
   "source": [
    "## ❓ Quering the API\n",
    "\n",
    "First we need to define the `query`, which is a `str` containing the search query. Then we can create a `TwitterScraper` object and call the `search` method to get the results."
   ]
  },
  {
   "cell_type": "code",
   "execution_count": 2,
   "metadata": {},
   "outputs": [],
   "source": [
    "query = 'BBQ Party'\n",
    "limit = 10\n",
    "\n",
    "q: SearchQuery = SearchQuery().with_subject(query).with_limit(limit)\n",
    "s: TwitterScraper = TwitterScraper()"
   ]
  },
  {
   "cell_type": "code",
   "execution_count": 3,
   "metadata": {},
   "outputs": [],
   "source": [
    "r: list[Tweet] = s.search(q)"
   ]
  },
  {
   "attachments": {},
   "cell_type": "markdown",
   "metadata": {},
   "source": [
    "Then we can iterate over the results and save them."
   ]
  },
  {
   "cell_type": "code",
   "execution_count": 4,
   "metadata": {},
   "outputs": [],
   "source": [
    "import os\n",
    "\n",
    "# try to create the data directory\n",
    "try:\n",
    "  os.mkdir('data')\n",
    "except FileExistsError:\n",
    "  pass\n",
    "\n",
    "# try to remove the test file\n",
    "try:\n",
    "  os.remove(os.path.join('data', 'tweet_demo.bin'))\n",
    "except FileNotFoundError:\n",
    "  pass"
   ]
  },
  {
   "cell_type": "code",
   "execution_count": 5,
   "metadata": {},
   "outputs": [],
   "source": [
    "for t in r:\n",
    "  t.write(os.path.join('data', 'tweet_demo.bin'))"
   ]
  },
  {
   "attachments": {},
   "cell_type": "markdown",
   "metadata": {},
   "source": [
    "We can later retrieve the saved results."
   ]
  },
  {
   "cell_type": "code",
   "execution_count": 6,
   "metadata": {},
   "outputs": [
    {
     "name": "stdout",
     "output_type": "stream",
     "text": [
      "RT @seokjinbottle: According to a mother whose son is in the same unit as Seokjin, there was a welcoming bbq party for Seokjin and since Se…\n"
     ]
    }
   ],
   "source": [
    "tweets: list[Tweet] = Tweet.factory(os.path.join('data', 'tweet_demo.bin'))\n",
    "\n",
    "print(tweets[0])"
   ]
  }
 ],
 "metadata": {
  "kernelspec": {
   "display_name": "Python 3",
   "language": "python",
   "name": "python3"
  },
  "language_info": {
   "codemirror_mode": {
    "name": "ipython",
    "version": 3
   },
   "file_extension": ".py",
   "mimetype": "text/x-python",
   "name": "python",
   "nbconvert_exporter": "python",
   "pygments_lexer": "ipython3",
   "version": "3.10.9"
  },
  "orig_nbformat": 4,
  "vscode": {
   "interpreter": {
    "hash": "26de051ba29f2982a8de78e945f0abaf191376122a1563185a90213a26c5da77"
   }
  }
 },
 "nbformat": 4,
 "nbformat_minor": 2
}
